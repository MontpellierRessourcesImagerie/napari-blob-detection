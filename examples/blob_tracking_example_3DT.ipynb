{
 "cells": [
  {
   "cell_type": "code",
   "execution_count": 1,
   "metadata": {
    "collapsed": true
   },
   "outputs": [],
   "source": [
    "import numpy as np\n",
    "import pandas as pd\n",
    "import napari\n",
    "from skimage.filters import gaussian"
   ]
  },
  {
   "cell_type": "code",
   "execution_count": 2,
   "outputs": [],
   "source": [
    "# helper function to create some movies\n",
    "def make_moving_particles(size, n_blobs, shift_size):\n",
    "\n",
    "    img = np.zeros(size)\n",
    "\n",
    "    start_coords_z = np.random.randint(0 + shift_size,\n",
    "                                       size[1] - shift_size,\n",
    "                                       n_blobs)\n",
    "    start_coords_y = np.random.randint(0 + shift_size,\n",
    "                                       size[2] - shift_size,\n",
    "                                       n_blobs)\n",
    "    start_coords_x = np.random.randint(0 + shift_size,\n",
    "                                       size[3] - shift_size,\n",
    "                                       n_blobs)\n",
    "\n",
    "    start_coords = pd.DataFrame({'z': start_coords_z,\n",
    "                                 'y': start_coords_y,\n",
    "                                 'x': start_coords_x})\n",
    "\n",
    "    for tp in range(0, img.shape[0]):\n",
    "\n",
    "        shift = np.random.randint(-shift_size, shift_size, start_coords.shape)\n",
    "        new_coords = start_coords + shift\n",
    "        img[tp, new_coords['z'], new_coords['y'], new_coords['x']] = 1\n",
    "        img[tp, :, :, :] = gaussian(img[tp, :, :, :], 1)\n",
    "\n",
    "    noise = np.random.random_sample(np.shape(img))/500\n",
    "    img = img+noise\n",
    "\n",
    "    return img"
   ],
   "metadata": {
    "collapsed": false,
    "pycharm": {
     "name": "#%%\n"
    }
   }
  },
  {
   "cell_type": "code",
   "execution_count": 4,
   "outputs": [],
   "source": [
    "img = make_moving_particles([20, 100, 100, 100], n_blobs=50, shift_size=3)"
   ],
   "metadata": {
    "collapsed": false,
    "pycharm": {
     "name": "#%%\n"
    }
   }
  },
  {
   "cell_type": "code",
   "execution_count": 5,
   "outputs": [
    {
     "data": {
      "text/plain": "<Image layer 'img' at 0x222a1e805e0>"
     },
     "execution_count": 5,
     "metadata": {},
     "output_type": "execute_result"
    }
   ],
   "source": [
    "viewer = napari.Viewer()\n",
    "viewer.add_image(img)"
   ],
   "metadata": {
    "collapsed": false,
    "pycharm": {
     "name": "#%%\n"
    }
   }
  }
 ],
 "metadata": {
  "kernelspec": {
   "display_name": "Python 3",
   "language": "python",
   "name": "python3"
  },
  "language_info": {
   "codemirror_mode": {
    "name": "ipython",
    "version": 2
   },
   "file_extension": ".py",
   "mimetype": "text/x-python",
   "name": "python",
   "nbconvert_exporter": "python",
   "pygments_lexer": "ipython2",
   "version": "2.7.6"
  }
 },
 "nbformat": 4,
 "nbformat_minor": 0
}