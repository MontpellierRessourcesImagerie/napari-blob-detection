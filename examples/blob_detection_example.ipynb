{
 "cells": [
  {
   "cell_type": "code",
   "execution_count": 1,
   "id": "3c12c6c3",
   "metadata": {},
   "outputs": [],
   "source": [
    "%gui qt5\n",
    "import napari\n",
    "import napari_blob_detection\n",
    "from skimage import data\n",
    "from skimage.color import rgb2gray"
   ]
  },
  {
   "cell_type": "code",
   "execution_count": 2,
   "id": "b47b6c72",
   "metadata": {},
   "outputs": [
    {
     "name": "stdout",
     "output_type": "stream",
     "text": [
      "creating new log file\n",
      "2021-05-30 11:28:16,223 [INFO] WRITING LOG OUTPUT TO C:\\Users\\Adria\\.cellpose\\run.log\n"
     ]
    },
    {
     "data": {
      "text/plain": [
       "<Image layer 'img' at 0x1a80b288708>"
      ]
     },
     "execution_count": 2,
     "metadata": {},
     "output_type": "execute_result"
    }
   ],
   "source": [
    "image = data.hubble_deep_field()[0:500, 0:500]\n",
    "image_gray = rgb2gray(image)\n",
    "\n",
    "viewer = napari.Viewer()\n",
    "viewer.add_image(image_gray, name='img')\n",
    "\n",
    "# In the viewer window navigate to:\n",
    "# \"Plugins\" -> \"Add Dock Widget\" -> \"napari-blob-detection\" -> \"detect_blobs\""
   ]
  }
 ],
 "metadata": {
  "kernelspec": {
   "display_name": "Python 3",
   "language": "python",
   "name": "python3"
  },
  "language_info": {
   "codemirror_mode": {
    "name": "ipython",
    "version": 3
   },
   "file_extension": ".py",
   "mimetype": "text/x-python",
   "name": "python",
   "nbconvert_exporter": "python",
   "pygments_lexer": "ipython3",
   "version": "3.7.6"
  }
 },
 "nbformat": 4,
 "nbformat_minor": 5
}
