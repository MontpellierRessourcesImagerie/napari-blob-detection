{
 "cells": [
  {
   "cell_type": "code",
   "execution_count": 1,
   "id": "3c12c6c3",
   "metadata": {},
   "outputs": [],
   "source": [
    "%gui qt5\n",
    "import napari\n",
    "import napari_blob_detection\n",
    "from skimage import data\n",
    "from skimage.color import rgb2gray"
   ]
  },
  {
   "cell_type": "code",
   "execution_count": 4,
   "id": "b47b6c72",
   "metadata": {},
   "outputs": [
    {
     "data": {
      "text/plain": "<Image layer 'img' at 0x2c4a284c640>"
     },
     "execution_count": 4,
     "metadata": {},
     "output_type": "execute_result"
    }
   ],
   "source": [
    "image = data.hubble_deep_field()[0:500, 0:500]\n",
    "image_gray = rgb2gray(image)\n",
    "\n",
    "viewer = napari.Viewer()\n",
    "viewer.add_image(image_gray, name='img')"
   ]
  },
  {
   "cell_type": "markdown",
   "id": "e8796b55-eb01-4ea7-b7a7-836565dba7b2",
   "metadata": {},
   "source": [
    "In the viewer window navigate to:\n",
    "\"Plugins\" -> \"Add Dock Widget\" -> \"napari-blob-detection\" -> \"detect_blobs\""
   ]
  },
  {
   "cell_type": "code",
   "execution_count": null,
   "id": "033e8dbe-1200-4d54-aeec-3012c9a5b6cf",
   "metadata": {},
   "outputs": [],
   "source": []
  }
 ],
 "metadata": {
  "kernelspec": {
   "display_name": "Python 3",
   "language": "python",
   "name": "python3"
  },
  "language_info": {
   "codemirror_mode": {
    "name": "ipython",
    "version": 3
   },
   "file_extension": ".py",
   "mimetype": "text/x-python",
   "name": "python",
   "nbconvert_exporter": "python",
   "pygments_lexer": "ipython3",
   "version": "3.7.6"
  }
 },
 "nbformat": 4,
 "nbformat_minor": 5
}