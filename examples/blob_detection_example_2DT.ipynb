{
 "cells": [
  {
   "cell_type": "code",
   "execution_count": 3,
   "id": "a81c7c36-0974-4608-8b3c-124abea9ea69",
   "metadata": {},
   "outputs": [],
   "source": [
    "import napari\n",
    "from skimage import data\n",
    "import numpy as np\n",
    "from skimage.filters import gaussian\n",
    "from skimage.util import random_noise"
   ]
  },
  {
   "cell_type": "code",
   "execution_count": 4,
   "id": "1c4dd982-f221-40f9-b9ca-b819693c641d",
   "metadata": {},
   "outputs": [],
   "source": [
    "# 2Dt case:\n",
    "img = [data.binary_blobs(length=200,\n",
    "                   n_dim=2,\n",
    "                   blob_size_fraction=0.01,\n",
    "                   volume_fraction=0.016) for i in range(0, 10)]\n",
    "\n",
    "img = [gaussian(i, 1) for i in img]\n",
    "\n",
    "img = np.stack(img)\n",
    "\n",
    "img = random_noise(img)\n",
    "\n",
    "img = np.expand_dims(img, axis=1)"
   ]
  },
  {
   "cell_type": "code",
   "execution_count": 5,
   "id": "86b6b904-9061-465f-9fb3-9f5f5eb4aaa4",
   "metadata": {},
   "outputs": [
    {
     "data": {
      "text/plain": "(10, 1, 200, 200)"
     },
     "execution_count": 5,
     "metadata": {},
     "output_type": "execute_result"
    }
   ],
   "source": [
    "img.shape"
   ]
  },
  {
   "cell_type": "code",
   "execution_count": 6,
   "id": "92f7015b-8bc6-40c9-9f80-253fbd135087",
   "metadata": {
    "pycharm": {
     "name": "#%%\n"
    }
   },
   "outputs": [
    {
     "data": {
      "text/plain": "<Image layer 'img' at 0x1e9dcc55210>"
     },
     "execution_count": 6,
     "metadata": {},
     "output_type": "execute_result"
    }
   ],
   "source": [
    "viewer = napari.Viewer()\n",
    "viewer.add_image(img, name=\"img\")"
   ]
  },
  {
   "cell_type": "code",
   "execution_count": null,
   "outputs": [],
   "source": [],
   "metadata": {
    "collapsed": false,
    "pycharm": {
     "name": "#%%\n"
    }
   }
  }
 ],
 "metadata": {
  "kernelspec": {
   "display_name": "Python 3 (ipykernel)",
   "language": "python",
   "name": "python3"
  },
  "language_info": {
   "codemirror_mode": {
    "name": "ipython",
    "version": 3
   },
   "file_extension": ".py",
   "mimetype": "text/x-python",
   "name": "python",
   "nbconvert_exporter": "python",
   "pygments_lexer": "ipython3",
   "version": "3.9.7"
  }
 },
 "nbformat": 4,
 "nbformat_minor": 5
}