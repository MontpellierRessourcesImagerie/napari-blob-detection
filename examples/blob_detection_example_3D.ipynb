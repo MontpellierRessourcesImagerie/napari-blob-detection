{
 "cells": [
  {
   "cell_type": "code",
   "execution_count": 1,
   "id": "d38af019",
   "metadata": {},
   "outputs": [],
   "source": [
    "%gui qt5\n",
    "import napari\n",
    "from skimage import data\n",
    "from skimage.filters import gaussian"
   ]
  },
  {
   "cell_type": "code",
   "execution_count": 2,
   "id": "3b5920d4",
   "metadata": {},
   "outputs": [
    {
     "name": "stdout",
     "output_type": "stream",
     "text": [
      "2021-06-19 01:07:33,009 [INFO] WRITING LOG OUTPUT TO C:\\Users\\Adria\\.cellpose\\run.log\n"
     ]
    },
    {
     "data": {
      "text/plain": [
       "<Image layer 'img' at 0x16a13504988>"
      ]
     },
     "execution_count": 2,
     "metadata": {},
     "output_type": "execute_result"
    },
    {
     "name": "stdout",
     "output_type": "stream",
     "text": [
      "2021-06-19 01:07:36,580 [INFO] No OpenGL_accelerate module loaded: No module named 'OpenGL_accelerate'\n",
      "2021-06-19 01:07:57,337 [INFO] Note: NumExpr detected 16 cores but \"NUMEXPR_MAX_THREADS\" not set, so enforcing safe limit of 8.\n",
      "2021-06-19 01:07:57,338 [INFO] NumExpr defaulting to 8 threads.\n",
      "Filter initialized.\n"
     ]
    }
   ],
   "source": [
    "img = data.binary_blobs(length=100, n_dim=3, blob_size_fraction=0.01, volume_fraction=0.001, seed=1)\n",
    "img = gaussian(img, 1)\n",
    "\n",
    "viewer = napari.Viewer()\n",
    "viewer.add_image(img, name=\"img\")"
   ]
  },
  {
   "cell_type": "markdown",
   "id": "6f32d571",
   "metadata": {},
   "source": [
    "In the viewer window activate the 3D mode and navigate to:\n",
    "\n",
    "\"Plugins\" -> \"Add Dock Widget\" -> \"napari-blob-detection\" -> \"detect_blobs\", adjust threshold to 0.02 and run"
   ]
  }
 ],
 "metadata": {
  "kernelspec": {
   "display_name": "Python 3",
   "language": "python",
   "name": "python3"
  },
  "language_info": {
   "codemirror_mode": {
    "name": "ipython",
    "version": 3
   },
   "file_extension": ".py",
   "mimetype": "text/x-python",
   "name": "python",
   "nbconvert_exporter": "python",
   "pygments_lexer": "ipython3",
   "version": "3.7.6"
  }
 },
 "nbformat": 4,
 "nbformat_minor": 5
}
