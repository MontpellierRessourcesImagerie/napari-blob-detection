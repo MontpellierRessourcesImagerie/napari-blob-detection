{
 "cells": [
  {
   "cell_type": "code",
   "execution_count": 1,
   "id": "d38af019",
   "metadata": {},
   "outputs": [],
   "source": [
    "%gui qt5\n",
    "import napari\n",
    "from skimage import data\n",
    "from skimage.filters import gaussian"
   ]
  },
  {
   "cell_type": "code",
   "execution_count": 2,
   "id": "3b5920d4",
   "metadata": {},
   "outputs": [
    {
     "name": "stderr",
     "output_type": "stream",
     "text": [
      "WARNING: QWindowsWindow::setGeometry: Unable to set geometry 3840x2058+0+57 (frame: 3872x2146-16-15) on QWidgetWindow/\"_QtMainWindowClassWindow\" on \"\\\\.\\DISPLAY1\". Resulting geometry: 3840x2004+0+56 (frame: 3872x2092-16-16) margins: 16, 72, 16, 16 minimum size: 608x686 MINMAXINFO maxSize=0,0 maxpos=0,0 mintrack=1856,2146 maxtrack=0,0)\n"
     ]
    },
    {
     "data": {
      "text/plain": "<Image layer 'img' at 0x2419ea600d0>"
     },
     "execution_count": 2,
     "metadata": {},
     "output_type": "execute_result"
    }
   ],
   "source": [
    "img = data.binary_blobs(length=100, n_dim=3, blob_size_fraction=0.01, volume_fraction=0.001, seed=1)\n",
    "img = gaussian(img, 1)\n",
    "\n",
    "viewer = napari.Viewer()\n",
    "viewer.add_image(img, name=\"img\")"
   ]
  },
  {
   "cell_type": "markdown",
   "id": "6f32d571",
   "metadata": {},
   "source": [
    "In the viewer window activate the 3D mode and navigate to:\n",
    "\n",
    "\"Plugins\" -> \"Add Dock Widget\" -> \"napari-blob-detection\" -> \"detect_blobs\", adjust threshold to 0.02 and run"
   ]
  }
 ],
 "metadata": {
  "kernelspec": {
   "display_name": "Python 3",
   "language": "python",
   "name": "python3"
  },
  "language_info": {
   "codemirror_mode": {
    "name": "ipython",
    "version": 3
   },
   "file_extension": ".py",
   "mimetype": "text/x-python",
   "name": "python",
   "nbconvert_exporter": "python",
   "pygments_lexer": "ipython3",
   "version": "3.7.6"
  }
 },
 "nbformat": 4,
 "nbformat_minor": 5
}