{
 "cells": [
  {
   "cell_type": "code",
   "execution_count": 5,
   "id": "fd723dbf-27a8-4fa9-8d24-8bd1a1b8fc1f",
   "metadata": {},
   "outputs": [],
   "source": [
    "%gui qt5\n",
    "import napari\n",
    "from skimage import data\n",
    "from skimage.util import random_noise\n",
    "from skimage.feature import blob_log\n",
    "from skimage.filters import gaussian\n",
    "import numpy as np"
   ]
  },
  {
   "cell_type": "code",
   "execution_count": 6,
   "id": "e4b5d843-5318-4cf9-a7d9-11ea41f86be0",
   "metadata": {},
   "outputs": [
    {
     "data": {
      "text/plain": [
       "<Points layer 'putative_blobs' at 0x19f2abc9280>"
      ]
     },
     "execution_count": 6,
     "metadata": {},
     "output_type": "execute_result"
    },
    {
     "name": "stdout",
     "output_type": "stream",
     "text": [
      "classifier has been trained\n"
     ]
    }
   ],
   "source": [
    "img = data.binary_blobs(length=200, n_dim=2, blob_size_fraction=0.01, volume_fraction=0.025, seed=1)\n",
    "img = gaussian(img, 1)\n",
    "img = random_noise(img)\n",
    "\n",
    "sigma=1.5\n",
    "putative_blobs = blob_log(img, min_sigma=sigma, max_sigma=sigma, num_sigma=1,\n",
    "                          threshold=0.0002)\n",
    "\n",
    "viewer = napari.Viewer()\n",
    "viewer.add_image(img, name=\"img\")\n",
    "viewer.add_points(putative_blobs[:, 0:2],\n",
    "                  name=\"putative_blobs\",\n",
    "                  size=2*np.sqrt(2)*sigma,\n",
    "                  opacity=0.5)"
   ]
  },
  {
   "cell_type": "code",
   "execution_count": null,
   "id": "f0cb2b1a-4a8b-4b23-80b2-394646b68324",
   "metadata": {},
   "outputs": [],
   "source": []
  }
 ],
 "metadata": {
  "kernelspec": {
   "display_name": "Python 3",
   "language": "python",
   "name": "python3"
  },
  "language_info": {
   "codemirror_mode": {
    "name": "ipython",
    "version": 3
   },
   "file_extension": ".py",
   "mimetype": "text/x-python",
   "name": "python",
   "nbconvert_exporter": "python",
   "pygments_lexer": "ipython3",
   "version": "3.9.5"
  }
 },
 "nbformat": 4,
 "nbformat_minor": 5
}
