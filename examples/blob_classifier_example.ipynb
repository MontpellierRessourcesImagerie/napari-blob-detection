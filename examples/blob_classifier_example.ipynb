{
 "cells": [
  {
   "cell_type": "code",
   "execution_count": 1,
   "id": "fd723dbf-27a8-4fa9-8d24-8bd1a1b8fc1f",
   "metadata": {},
   "outputs": [],
   "source": [
    "%gui qt5\n",
    "import napari\n",
    "from skimage import data\n",
    "from skimage.util import random_noise\n",
    "from skimage.feature import blob_log\n",
    "from skimage.filters import gaussian\n",
    "import numpy as np"
   ]
  },
  {
   "cell_type": "code",
   "execution_count": 5,
   "id": "e4b5d843-5318-4cf9-a7d9-11ea41f86be0",
   "metadata": {},
   "outputs": [
    {
     "data": {
      "text/plain": [
       "<Points layer 'putative_blobs' at 0x1dd465c6dc0>"
      ]
     },
     "execution_count": 5,
     "metadata": {},
     "output_type": "execute_result"
    },
    {
     "name": "stderr",
     "output_type": "stream",
     "text": [
      "C:\\Users\\Adrian\\miniconda3\\envs\\lca\\lib\\site-packages\\napari_blob_detection\\_dock_widget.py:368: FutureWarning: \n",
      "\n",
      "magicgui 0.4.0 will change the way that callbacks are called.\n",
      "Instead of a single `Event` instance, with an `event.value` attribute,\n",
      "callbacks will receive the value(s) directly:\n",
      "\n",
      "@initialize_layers.changed.connect\n",
      "def my_callback(*args):\n",
      "    # *args are the value(s) themselves!\n",
      "\n",
      "To silence this warning you may either provide a callback that has more\n",
      "or less than 1 parameter.  Or annotate the single parameter as anything\n",
      "*other* than `Event`, e.g. `def callback(x: int): ...`\n",
      "For details, see: https://github.com/napari/magicgui/issues/255\n",
      "  def initialize_layers(event):\n",
      "C:\\Users\\Adrian\\miniconda3\\envs\\lca\\lib\\site-packages\\napari_blob_detection\\_dock_widget.py:391: FutureWarning: \n",
      "\n",
      "magicgui 0.4.0 will change the way that callbacks are called.\n",
      "Instead of a single `Event` instance, with an `event.value` attribute,\n",
      "callbacks will receive the value(s) directly:\n",
      "\n",
      "@save_classifier.changed.connect\n",
      "def my_callback(*args):\n",
      "    # *args are the value(s) themselves!\n",
      "\n",
      "To silence this warning you may either provide a callback that has more\n",
      "or less than 1 parameter.  Or annotate the single parameter as anything\n",
      "*other* than `Event`, e.g. `def callback(x: int): ...`\n",
      "For details, see: https://github.com/napari/magicgui/issues/255\n",
      "  def save_classifier(event):\n",
      "C:\\Users\\Adrian\\miniconda3\\envs\\lca\\lib\\site-packages\\napari_blob_detection\\_dock_widget.py:399: FutureWarning: \n",
      "\n",
      "magicgui 0.4.0 will change the way that callbacks are called.\n",
      "Instead of a single `Event` instance, with an `event.value` attribute,\n",
      "callbacks will receive the value(s) directly:\n",
      "\n",
      "@apply_classifier.changed.connect\n",
      "def my_callback(*args):\n",
      "    # *args are the value(s) themselves!\n",
      "\n",
      "To silence this warning you may either provide a callback that has more\n",
      "or less than 1 parameter.  Or annotate the single parameter as anything\n",
      "*other* than `Event`, e.g. `def callback(x: int): ...`\n",
      "For details, see: https://github.com/napari/magicgui/issues/255\n",
      "  def apply_classifier(event):\n"
     ]
    },
    {
     "name": "stdout",
     "output_type": "stream",
     "text": [
      "classifier has been trained\n"
     ]
    }
   ],
   "source": [
    "img = data.binary_blobs(length=200, n_dim=2, blob_size_fraction=0.01, volume_fraction=0.025, seed=1)\n",
    "img = gaussian(img, 1)\n",
    "img = random_noise(img)\n",
    "\n",
    "sigma=1.5\n",
    "putative_blobs = blob_log(img, min_sigma=sigma, max_sigma=sigma, num_sigma=1,\n",
    "                          threshold=0.0005)\n",
    "\n",
    "viewer = napari.Viewer()\n",
    "viewer.add_image(img, name=\"img\")\n",
    "viewer.add_points(putative_blobs[:, 0:2],\n",
    "                  name=\"putative_blobs\",\n",
    "                  size=2*np.sqrt(2)*sigma,\n",
    "                  face_color='transparent',\n",
    "                  edge_color='white',\n",
    "                  opacity=0.5)"
   ]
  },
  {
   "cell_type": "code",
   "execution_count": null,
   "id": "f0cb2b1a-4a8b-4b23-80b2-394646b68324",
   "metadata": {},
   "outputs": [],
   "source": []
  }
 ],
 "metadata": {
  "kernelspec": {
   "display_name": "Python 3 (ipykernel)",
   "language": "python",
   "name": "python3"
  },
  "language_info": {
   "codemirror_mode": {
    "name": "ipython",
    "version": 3
   },
   "file_extension": ".py",
   "mimetype": "text/x-python",
   "name": "python",
   "nbconvert_exporter": "python",
   "pygments_lexer": "ipython3",
   "version": "3.9.7"
  }
 },
 "nbformat": 4,
 "nbformat_minor": 5
}
