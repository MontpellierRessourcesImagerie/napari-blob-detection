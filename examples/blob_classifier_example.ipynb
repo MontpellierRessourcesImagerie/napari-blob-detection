{
 "cells": [
  {
   "cell_type": "code",
   "execution_count": 1,
   "id": "fd723dbf-27a8-4fa9-8d24-8bd1a1b8fc1f",
   "metadata": {},
   "outputs": [],
   "source": [
    "import napari\n",
    "from skimage import data\n",
    "from skimage.util import random_noise\n",
    "from skimage.feature import blob_log\n",
    "from skimage.filters import gaussian\n",
    "import numpy as np"
   ]
  },
  {
   "cell_type": "code",
   "execution_count": 8,
   "id": "e4b5d843-5318-4cf9-a7d9-11ea41f86be0",
   "metadata": {},
   "outputs": [
    {
     "name": "stderr",
     "output_type": "stream",
     "text": [
      "WARNING: QWindowsWindow::setGeometry: Unable to set geometry 3840x2109+0+57 (frame: 3872x2197-16-15) on QWidgetWindow/\"_QtMainWindowClassWindow\" on \"\\\\.\\DISPLAY1\". Resulting geometry: 3840x2108+0+57 (frame: 3872x2196-16-15) margins: 16, 72, 16, 16 minimum size: 608x526 MINMAXINFO maxSize=0,0 maxpos=0,0 mintrack=1856,1666 maxtrack=0,0)\n"
     ]
    },
    {
     "data": {
      "text/plain": [
       "<Points layer 'putative_blobs' at 0x257808f2040>"
      ]
     },
     "execution_count": 8,
     "metadata": {},
     "output_type": "execute_result"
    }
   ],
   "source": [
    "img = data.binary_blobs(length=200, n_dim=2, blob_size_fraction=0.01, volume_fraction=0.025, seed=1)\n",
    "img = gaussian(img, 1)\n",
    "img = random_noise(img)\n",
    "\n",
    "sigma=1.5\n",
    "putative_blobs = blob_log(img, min_sigma=sigma, max_sigma=sigma, num_sigma=1,\n",
    "                          threshold=0.0002)\n",
    "\n",
    "viewer = napari.Viewer()\n",
    "viewer.add_image(img, name=\"img\")\n",
    "viewer.add_points(putative_blobs[:, 0:2],\n",
    "                  name=\"putative_blobs\",\n",
    "                  size=2*np.sqrt(2)*sigma,\n",
    "                  opacity=0.5)"
   ]
  },
  {
   "cell_type": "code",
   "execution_count": 7,
   "id": "f0cb2b1a-4a8b-4b23-80b2-394646b68324",
   "metadata": {},
   "outputs": [],
   "source": [
    "from napari_blob_detection._dock_widget import measure_blobs"
   ]
  },
  {
   "cell_type": "code",
   "execution_count": 9,
   "id": "dd3efe54",
   "metadata": {},
   "outputs": [],
   "source": [
    "img = viewer.layers.selection.active.data"
   ]
  },
  {
   "cell_type": "code",
   "execution_count": null,
   "id": "f4acf00e",
   "metadata": {},
   "outputs": [],
   "source": [
    "coordinate"
   ]
  }
 ],
 "metadata": {
  "kernelspec": {
   "display_name": "Python 3",
   "language": "python",
   "name": "python3"
  },
  "language_info": {
   "codemirror_mode": {
    "name": "ipython",
    "version": 3
   },
   "file_extension": ".py",
   "mimetype": "text/x-python",
   "name": "python",
   "nbconvert_exporter": "python",
   "pygments_lexer": "ipython3",
   "version": "3.9.5"
  }
 },
 "nbformat": 4,
 "nbformat_minor": 5
}