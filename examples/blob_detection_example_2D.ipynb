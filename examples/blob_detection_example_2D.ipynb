{
 "cells": [
  {
   "cell_type": "code",
   "execution_count": 1,
   "id": "a81c7c36-0974-4608-8b3c-124abea9ea69",
   "metadata": {},
   "outputs": [],
   "source": [
    "import napari\n",
    "from skimage import data\n",
    "import numpy as np\n",
    "from skimage.filters import gaussian\n",
    "from skimage.util import random_noise"
   ]
  },
  {
   "cell_type": "code",
   "execution_count": 2,
   "id": "1c4dd982-f221-40f9-b9ca-b819693c641d",
   "metadata": {},
   "outputs": [],
   "source": [
    "# 2D case:\n",
    "img = data.binary_blobs(length=200,\n",
    "                        n_dim=2,\n",
    "                        blob_size_fraction=0.01,\n",
    "                        volume_fraction=0.016)\n",
    "\n",
    "img = gaussian(img, 1)\n",
    "\n",
    "img = random_noise(img, mode='gaussian', mean=np.mean(img), var=np.var(img))\n",
    "\n",
    "img = np.expand_dims(img, axis=(0, 1))"
   ]
  },
  {
   "cell_type": "code",
   "execution_count": 3,
   "id": "a79449ab-4f31-4020-9b61-3f90543972a5",
   "metadata": {},
   "outputs": [
    {
     "data": {
      "text/plain": [
       "(1, 1, 200, 200)"
      ]
     },
     "execution_count": 3,
     "metadata": {},
     "output_type": "execute_result"
    }
   ],
   "source": [
    "img.shape"
   ]
  },
  {
   "cell_type": "code",
   "execution_count": 4,
   "id": "86b6b904-9061-465f-9fb3-9f5f5eb4aaa4",
   "metadata": {
    "pycharm": {
     "name": "#%%\n"
    }
   },
   "outputs": [
    {
     "data": {
      "text/plain": [
       "<Image layer 'img' at 0x230d18d99d0>"
      ]
     },
     "execution_count": 4,
     "metadata": {},
     "output_type": "execute_result"
    },
    {
     "name": "stderr",
     "output_type": "stream",
     "text": [
      "C:\\Users\\Adrian\\miniconda3\\envs\\napari-blob-detection\\lib\\site-packages\\napari_blob_detection\\_widget.py:53: FutureWarning: \n",
      "\n",
      "magicgui 0.4.0 will change the way that callbacks are called.\n",
      "Instead of a single `Event` instance, with an `event.value` attribute,\n",
      "callbacks will receive the value(s) directly:\n",
      "\n",
      "@detector.changed.connect\n",
      "def my_callback(*args):\n",
      "    # *args are the value(s) themselves!\n",
      "\n",
      "To silence this warning you may either provide a callback that has more\n",
      "or less than 1 parameter.  Or annotate the single parameter as anything\n",
      "*other* than `Event`, e.g. `def callback(x: int): ...`\n",
      "For details, see: https://github.com/napari/magicgui/issues/255\n",
      "  def update(event):\n",
      "C:\\Users\\Adrian\\miniconda3\\envs\\napari-blob-detection\\lib\\site-packages\\napari_blob_detection\\_widget.py:206: FutureWarning: \n",
      "\n",
      "magicgui 0.4.0 will change the way that callbacks are called.\n",
      "Instead of a single `Event` instance, with an `event.value` attribute,\n",
      "callbacks will receive the value(s) directly:\n",
      "\n",
      "@initialize_filter.changed.connect\n",
      "def my_callback(*args):\n",
      "    # *args are the value(s) themselves!\n",
      "\n",
      "To silence this warning you may either provide a callback that has more\n",
      "or less than 1 parameter.  Or annotate the single parameter as anything\n",
      "*other* than `Event`, e.g. `def callback(x: int): ...`\n",
      "For details, see: https://github.com/napari/magicgui/issues/255\n",
      "  def measure(event):\n",
      "C:\\Users\\Adrian\\miniconda3\\envs\\napari-blob-detection\\lib\\site-packages\\napari_blob_detection\\_widget.py:227: FutureWarning: \n",
      "\n",
      "magicgui 0.4.0 will change the way that callbacks are called.\n",
      "Instead of a single `Event` instance, with an `event.value` attribute,\n",
      "callbacks will receive the value(s) directly:\n",
      "\n",
      "@add_filter.changed.connect\n",
      "def my_callback(*args):\n",
      "    # *args are the value(s) themselves!\n",
      "\n",
      "To silence this warning you may either provide a callback that has more\n",
      "or less than 1 parameter.  Or annotate the single parameter as anything\n",
      "*other* than `Event`, e.g. `def callback(x: int): ...`\n",
      "For details, see: https://github.com/napari/magicgui/issues/255\n",
      "  def add_filter(event):\n",
      "C:\\Users\\Adrian\\miniconda3\\envs\\napari-blob-detection\\lib\\site-packages\\napari_blob_detection\\_widget.py:314: FutureWarning: \n",
      "\n",
      "magicgui 0.4.0 will change the way that callbacks are called.\n",
      "Instead of a single `Event` instance, with an `event.value` attribute,\n",
      "callbacks will receive the value(s) directly:\n",
      "\n",
      "@save_results.changed.connect\n",
      "def my_callback(*args):\n",
      "    # *args are the value(s) themselves!\n",
      "\n",
      "To silence this warning you may either provide a callback that has more\n",
      "or less than 1 parameter.  Or annotate the single parameter as anything\n",
      "*other* than `Event`, e.g. `def callback(x: int): ...`\n",
      "For details, see: https://github.com/napari/magicgui/issues/255\n",
      "  def save_results(event):\n"
     ]
    },
    {
     "name": "stdout",
     "output_type": "stream",
     "text": [
      "Filter initialized.\n"
     ]
    },
    {
     "name": "stderr",
     "output_type": "stream",
     "text": [
      "C:\\Users\\Adrian\\miniconda3\\envs\\napari-blob-detection\\lib\\site-packages\\magicgui\\type_map.py:215: UserWarning: widget_type of 'RadioButton' (with dtype int) is being coerced to 'RadioButtons' due to choices or Enum type.\n",
      "  widget_type, _options = pick_widget_type(value, annotation, _options, is_result)\n",
      "C:\\Users\\Adrian\\miniconda3\\envs\\napari-blob-detection\\lib\\site-packages\\napari_blob_detection\\_widget.py:247: FutureWarning: \n",
      "\n",
      "magicgui 0.4.0 will change the way that callbacks are called.\n",
      "Instead of a single `Event` instance, with an `event.value` attribute,\n",
      "callbacks will receive the value(s) directly:\n",
      "\n",
      "@threshold.changed.connect\n",
      "def my_callback(*args):\n",
      "    # *args are the value(s) themselves!\n",
      "\n",
      "To silence this warning you may either provide a callback that has more\n",
      "or less than 1 parameter.  Or annotate the single parameter as anything\n",
      "*other* than `Event`, e.g. `def callback(x: int): ...`\n",
      "For details, see: https://github.com/napari/magicgui/issues/255\n",
      "  def apply_filter(event):\n",
      "C:\\Users\\Adrian\\miniconda3\\envs\\napari-blob-detection\\lib\\site-packages\\napari_blob_detection\\_widget.py:276: FutureWarning: \n",
      "\n",
      "magicgui 0.4.0 will change the way that callbacks are called.\n",
      "Instead of a single `Event` instance, with an `event.value` attribute,\n",
      "callbacks will receive the value(s) directly:\n",
      "\n",
      "@min_max.changed.connect\n",
      "def my_callback(*args):\n",
      "    # *args are the value(s) themselves!\n",
      "\n",
      "To silence this warning you may either provide a callback that has more\n",
      "or less than 1 parameter.  Or annotate the single parameter as anything\n",
      "*other* than `Event`, e.g. `def callback(x: int): ...`\n",
      "For details, see: https://github.com/napari/magicgui/issues/255\n",
      "  def update_min_max(event):\n",
      "C:\\Users\\Adrian\\miniconda3\\envs\\napari-blob-detection\\lib\\site-packages\\napari_blob_detection\\_widget.py:283: FutureWarning: \n",
      "\n",
      "magicgui 0.4.0 will change the way that callbacks are called.\n",
      "Instead of a single `Event` instance, with an `event.value` attribute,\n",
      "callbacks will receive the value(s) directly:\n",
      "\n",
      "@feature.changed.connect\n",
      "def my_callback(*args):\n",
      "    # *args are the value(s) themselves!\n",
      "\n",
      "To silence this warning you may either provide a callback that has more\n",
      "or less than 1 parameter.  Or annotate the single parameter as anything\n",
      "*other* than `Event`, e.g. `def callback(x: int): ...`\n",
      "For details, see: https://github.com/napari/magicgui/issues/255\n",
      "  def update_threshold(event):\n",
      "C:\\Users\\Adrian\\miniconda3\\envs\\napari-blob-detection\\lib\\site-packages\\napari_blob_detection\\_widget.py:300: FutureWarning: \n",
      "\n",
      "magicgui 0.4.0 will change the way that callbacks are called.\n",
      "Instead of a single `Event` instance, with an `event.value` attribute,\n",
      "callbacks will receive the value(s) directly:\n",
      "\n",
      "@delete.changed.connect\n",
      "def my_callback(*args):\n",
      "    # *args are the value(s) themselves!\n",
      "\n",
      "To silence this warning you may either provide a callback that has more\n",
      "or less than 1 parameter.  Or annotate the single parameter as anything\n",
      "*other* than `Event`, e.g. `def callback(x: int): ...`\n",
      "For details, see: https://github.com/napari/magicgui/issues/255\n",
      "  def delete_subfilter(event):\n",
      "C:\\Users\\Adrian\\miniconda3\\envs\\napari-blob-detection\\lib\\site-packages\\napari_blob_detection\\_widget.py:71: FutureWarning: \n",
      "\n",
      "magicgui 0.4.0 will change the way that callbacks are called.\n",
      "Instead of a single `Event` instance, with an `event.value` attribute,\n",
      "callbacks will receive the value(s) directly:\n",
      "\n",
      "@initialize_layers.changed.connect\n",
      "def my_callback(*args):\n",
      "    # *args are the value(s) themselves!\n",
      "\n",
      "To silence this warning you may either provide a callback that has more\n",
      "or less than 1 parameter.  Or annotate the single parameter as anything\n",
      "*other* than `Event`, e.g. `def callback(x: int): ...`\n",
      "For details, see: https://github.com/napari/magicgui/issues/255\n",
      "  def initialize_layers(event):\n",
      "C:\\Users\\Adrian\\miniconda3\\envs\\napari-blob-detection\\lib\\site-packages\\napari_blob_detection\\_widget.py:101: FutureWarning: \n",
      "\n",
      "magicgui 0.4.0 will change the way that callbacks are called.\n",
      "Instead of a single `Event` instance, with an `event.value` attribute,\n",
      "callbacks will receive the value(s) directly:\n",
      "\n",
      "@save_classifier.changed.connect\n",
      "def my_callback(*args):\n",
      "    # *args are the value(s) themselves!\n",
      "\n",
      "To silence this warning you may either provide a callback that has more\n",
      "or less than 1 parameter.  Or annotate the single parameter as anything\n",
      "*other* than `Event`, e.g. `def callback(x: int): ...`\n",
      "For details, see: https://github.com/napari/magicgui/issues/255\n",
      "  def save_classifier(event):\n",
      "C:\\Users\\Adrian\\miniconda3\\envs\\napari-blob-detection\\lib\\site-packages\\napari_blob_detection\\_widget.py:109: FutureWarning: \n",
      "\n",
      "magicgui 0.4.0 will change the way that callbacks are called.\n",
      "Instead of a single `Event` instance, with an `event.value` attribute,\n",
      "callbacks will receive the value(s) directly:\n",
      "\n",
      "@add_training_data.changed.connect\n",
      "def my_callback(*args):\n",
      "    # *args are the value(s) themselves!\n",
      "\n",
      "To silence this warning you may either provide a callback that has more\n",
      "or less than 1 parameter.  Or annotate the single parameter as anything\n",
      "*other* than `Event`, e.g. `def callback(x: int): ...`\n",
      "For details, see: https://github.com/napari/magicgui/issues/255\n",
      "  def add_training_data(event):\n",
      "C:\\Users\\Adrian\\miniconda3\\envs\\napari-blob-detection\\lib\\site-packages\\napari_blob_detection\\_widget.py:126: FutureWarning: \n",
      "\n",
      "magicgui 0.4.0 will change the way that callbacks are called.\n",
      "Instead of a single `Event` instance, with an `event.value` attribute,\n",
      "callbacks will receive the value(s) directly:\n",
      "\n",
      "@apply_classifier.changed.connect\n",
      "def my_callback(*args):\n",
      "    # *args are the value(s) themselves!\n",
      "\n",
      "To silence this warning you may either provide a callback that has more\n",
      "or less than 1 parameter.  Or annotate the single parameter as anything\n",
      "*other* than `Event`, e.g. `def callback(x: int): ...`\n",
      "For details, see: https://github.com/napari/magicgui/issues/255\n",
      "  def apply_classifier(event):\n",
      "C:\\Users\\Adrian\\miniconda3\\envs\\napari-blob-detection\\lib\\site-packages\\napari_blob_detection\\_widget.py:92: FutureWarning: \n",
      "\n",
      "magicgui 0.4.0 will change the way that callbacks are called.\n",
      "Instead of a single `Event` instance, with an `event.value` attribute,\n",
      "callbacks will receive the value(s) directly:\n",
      "\n",
      "@blob_class.changed.connect\n",
      "def my_callback(*args):\n",
      "    # *args are the value(s) themselves!\n",
      "\n",
      "To silence this warning you may either provide a callback that has more\n",
      "or less than 1 parameter.  Or annotate the single parameter as anything\n",
      "*other* than `Event`, e.g. `def callback(x: int): ...`\n",
      "For details, see: https://github.com/napari/magicgui/issues/255\n",
      "  def update_blob_color(event):\n"
     ]
    },
    {
     "name": "stdout",
     "output_type": "stream",
     "text": [
      "training data was added\n",
      "classifier has been trained\n"
     ]
    },
    {
     "name": "stderr",
     "output_type": "stream",
     "text": [
      "C:\\Users\\Adrian\\miniconda3\\envs\\napari-blob-detection\\lib\\site-packages\\napari_blob_detection\\_widget.py:53: FutureWarning: \n",
      "\n",
      "magicgui 0.4.0 will change the way that callbacks are called.\n",
      "Instead of a single `Event` instance, with an `event.value` attribute,\n",
      "callbacks will receive the value(s) directly:\n",
      "\n",
      "@detector.changed.connect\n",
      "def my_callback(*args):\n",
      "    # *args are the value(s) themselves!\n",
      "\n",
      "To silence this warning you may either provide a callback that has more\n",
      "or less than 1 parameter.  Or annotate the single parameter as anything\n",
      "*other* than `Event`, e.g. `def callback(x: int): ...`\n",
      "For details, see: https://github.com/napari/magicgui/issues/255\n",
      "  def update(event):\n",
      "C:\\Users\\Adrian\\miniconda3\\envs\\napari-blob-detection\\lib\\site-packages\\napari_blob_detection\\_widget.py:92: FutureWarning: \n",
      "\n",
      "magicgui 0.4.0 will change the way that callbacks are called.\n",
      "Instead of a single `Event` instance, with an `event.value` attribute,\n",
      "callbacks will receive the value(s) directly:\n",
      "\n",
      "@blob_class.changed.connect\n",
      "def my_callback(*args):\n",
      "    # *args are the value(s) themselves!\n",
      "\n",
      "To silence this warning you may either provide a callback that has more\n",
      "or less than 1 parameter.  Or annotate the single parameter as anything\n",
      "*other* than `Event`, e.g. `def callback(x: int): ...`\n",
      "For details, see: https://github.com/napari/magicgui/issues/255\n",
      "  def update_blob_color(event):\n"
     ]
    },
    {
     "name": "stdout",
     "output_type": "stream",
     "text": [
      "training data was added\n",
      "classifier has been trained\n",
      "training data was added\n",
      "classifier has been trained\n"
     ]
    }
   ],
   "source": [
    "viewer = napari.Viewer()\n",
    "viewer.add_image(img, name=\"img\")"
   ]
  },
  {
   "cell_type": "code",
   "execution_count": null,
   "id": "7295c155",
   "metadata": {
    "collapsed": false,
    "jupyter": {
     "outputs_hidden": false
    },
    "pycharm": {
     "name": "#%%\n"
    }
   },
   "outputs": [],
   "source": []
  }
 ],
 "metadata": {
  "kernelspec": {
   "display_name": "Python 3 (ipykernel)",
   "language": "python",
   "name": "python3"
  },
  "language_info": {
   "codemirror_mode": {
    "name": "ipython",
    "version": 3
   },
   "file_extension": ".py",
   "mimetype": "text/x-python",
   "name": "python",
   "nbconvert_exporter": "python",
   "pygments_lexer": "ipython3",
   "version": "3.9.7"
  }
 },
 "nbformat": 4,
 "nbformat_minor": 5
}